{
 "cells": [
  {
   "cell_type": "code",
   "execution_count": 1,
   "id": "0e22d7a3-5435-4b23-a793-c6928618e9de",
   "metadata": {},
   "outputs": [],
   "source": [
    "#first step: import in the csv file:\n",
    "\n",
    "    #need to get path library imported along with Path and csv\n",
    "from pathlib import Path\n",
    "import csv"
   ]
  },
  {
   "cell_type": "code",
   "execution_count": 2,
   "id": "a7fd142a-b08a-42ca-af57-5bf66d7ed599",
   "metadata": {},
   "outputs": [],
   "source": [
    "  # need to load in numpy library \n",
    "import numpy"
   ]
  },
  {
   "cell_type": "code",
   "execution_count": 3,
   "id": "98b50cb8-fd47-44f1-b808-7bfa78b25e61",
   "metadata": {},
   "outputs": [],
   "source": [
    "# need to import these libraries in order to export txt.file\n",
    "import os\n",
    "import sys"
   ]
  },
  {
   "cell_type": "code",
   "execution_count": 4,
   "id": "af828abc-7592-4299-825f-36fe7c33f66c",
   "metadata": {},
   "outputs": [],
   "source": [
    "    #need to set the file path\n",
    "filepath = Path(\"C:/Users/alexa/Desktop/BOOTCAMP/nu-chi-virt-fin-pt-04-2021-u-c/02-Python/Homework/Instructions/PyBank/Resources/budget_data.csv\")"
   ]
  },
  {
   "cell_type": "code",
   "execution_count": 5,
   "id": "f75c5678-561a-4b6e-be6d-a7d532ad693c",
   "metadata": {},
   "outputs": [],
   "source": [
    "    #need to print file"
   ]
  },
  {
   "cell_type": "code",
   "execution_count": 6,
   "id": "798e4999-8f60-4aca-8a28-17b28ff6f631",
   "metadata": {},
   "outputs": [],
   "source": [
    "    \n",
    "# Initialize variable to hold salaries\n",
    "pnl = []\n",
    "months = []"
   ]
  },
  {
   "cell_type": "code",
   "execution_count": 7,
   "id": "b9427692-b865-42f5-b040-57749acb646f",
   "metadata": {},
   "outputs": [],
   "source": [
    "# Initialize line_num variable\n",
    "line_num = 0"
   ]
  },
  {
   "cell_type": "code",
   "execution_count": 8,
   "id": "1825e4eb-7d97-4a35-b0b4-db4c342578d6",
   "metadata": {},
   "outputs": [
    {
     "name": "stdout",
     "output_type": "stream",
     "text": [
      "['Date', 'Profit/Losses'] <---- HEADER\n",
      "['Jan-2010', '867884']\n",
      "['Feb-2010', '984655']\n",
      "['Mar-2010', '322013']\n",
      "['Apr-2010', '-69417']\n",
      "['May-2010', '310503']\n",
      "['Jun-2010', '522857']\n",
      "['Jul-2010', '1033096']\n",
      "['Aug-2010', '604885']\n",
      "['Sep-2010', '-216386']\n",
      "['Oct-2010', '477532']\n",
      "['Nov-2010', '893810']\n",
      "['Dec-2010', '-80353']\n",
      "['Jan-2011', '779806']\n",
      "['Feb-2011', '-335203']\n",
      "['Mar-2011', '697845']\n",
      "['Apr-2011', '793163']\n",
      "['May-2011', '485070']\n",
      "['Jun-2011', '584122']\n",
      "['Jul-2011', '62729']\n",
      "['Aug-2011', '668179']\n",
      "['Sep-2011', '899906']\n",
      "['Oct-2011', '834719']\n",
      "['Nov-2011', '132003']\n",
      "['Dec-2011', '309978']\n",
      "['Jan-2012', '-755566']\n",
      "['Feb-2012', '1170593']\n",
      "['Mar-2012', '252788']\n",
      "['Apr-2012', '1151518']\n",
      "['May-2012', '817256']\n",
      "['Jun-2012', '570757']\n",
      "['Jul-2012', '506702']\n",
      "['Aug-2012', '-1022534']\n",
      "['Sep-2012', '475062']\n",
      "['Oct-2012', '779976']\n",
      "['Nov-2012', '144175']\n",
      "['Dec-2012', '542494']\n",
      "['Jan-2013', '359333']\n",
      "['Feb-2013', '321469']\n",
      "['Mar-2013', '67780']\n",
      "['Apr-2013', '471435']\n",
      "['May-2013', '565603']\n",
      "['Jun-2013', '872480']\n",
      "['Jul-2013', '789480']\n",
      "['Aug-2013', '999942']\n",
      "['Sep-2013', '-1196225']\n",
      "['Oct-2013', '268997']\n",
      "['Nov-2013', '-687986']\n",
      "['Dec-2013', '1150461']\n",
      "['Jan-2014', '682458']\n",
      "['Feb-2014', '617856']\n",
      "['Mar-2014', '824098']\n",
      "['Apr-2014', '581943']\n",
      "['May-2014', '132864']\n",
      "['Jun-2014', '448062']\n",
      "['Jul-2014', '689161']\n",
      "['Aug-2014', '800701']\n",
      "['Sep-2014', '1166643']\n",
      "['Oct-2014', '947333']\n",
      "['Nov-2014', '578668']\n",
      "['Dec-2014', '988505']\n",
      "['Jan-2015', '1139715']\n",
      "['Feb-2015', '1029471']\n",
      "['Mar-2015', '687533']\n",
      "['Apr-2015', '-524626']\n",
      "['May-2015', '158620']\n",
      "['Jun-2015', '87795']\n",
      "['Jul-2015', '423389']\n",
      "['Aug-2015', '840723']\n",
      "['Sep-2015', '568529']\n",
      "['Oct-2015', '332067']\n",
      "['Nov-2015', '989499']\n",
      "['Dec-2015', '778237']\n",
      "['Jan-2016', '650000']\n",
      "['Feb-2016', '-1100387']\n",
      "['Mar-2016', '-174946']\n",
      "['Apr-2016', '757143']\n",
      "['May-2016', '445709']\n",
      "['Jun-2016', '712961']\n",
      "['Jul-2016', '-1163797']\n",
      "['Aug-2016', '569899']\n",
      "['Sep-2016', '768450']\n",
      "['Oct-2016', '102685']\n",
      "['Nov-2016', '795914']\n",
      "['Dec-2016', '60988']\n",
      "['Jan-2017', '138230']\n",
      "['Feb-2017', '671099']\n"
     ]
    }
   ],
   "source": [
    "with open(filepath, 'r') as csvfile:\n",
    "\n",
    "    # Print the datatype of the file object\n",
    "    \n",
    "\n",
    "    # Pass in the csv file to the csv.reader() function\n",
    "    # (with ',' as the delmiter/separator) and return the csvreader object\n",
    "    csvreader = csv.reader(csvfile, delimiter=',')\n",
    "    # Print the datatype of the csvreader\n",
    "    \n",
    "\n",
    "    # Go to the next row from the start of the file\n",
    "    # (which is often the first row/header) and iterate line_num by 1\n",
    "    header = next(csvreader)\n",
    "    line_num += 1\n",
    "    # Print the header\n",
    "    print(f\"{header} <---- HEADER\")\n",
    "\n",
    "    # Read each row of data after the header\n",
    "    for row in csvreader:\n",
    "        # Print the row\n",
    "        print(row)\n",
    "        # Set salary variable equal to the value in the 4th column of each row\n",
    "        date = str(row[0])\n",
    "        pl = int(row[1])\n",
    "        # Append the row salary value to the list of salaries\n",
    "        months.append(date)\n",
    "        pnl.append(pl)"
   ]
  },
  {
   "cell_type": "code",
   "execution_count": 9,
   "id": "0ddd472d-cda3-471e-ba01-23d02a1b1e40",
   "metadata": {},
   "outputs": [],
   "source": [
    "### VERY IMPORTANT: For a \"with\" value when opening a file, need all functions inside to be indented or else get this error 'ValueError: I/O operation on closed file.'"
   ]
  },
  {
   "cell_type": "code",
   "execution_count": null,
   "id": "bce63ddd-caf4-47f1-9bc3-739a61923ca1",
   "metadata": {},
   "outputs": [],
   "source": []
  },
  {
   "cell_type": "code",
   "execution_count": 10,
   "id": "4edd07bb-2c56-4652-8f9e-b2c383d46143",
   "metadata": {},
   "outputs": [],
   "source": [
    "#initialize variables\n",
    "# pnl = defined\n",
    "# pl = derived from .csv\n",
    "max_pnl = 0\n",
    "min_pnl = 0\n",
    "avg_pnl = 0\n",
    "total_pnl = 0\n",
    "count_pnl = 0\n",
    "total_month = 0\n",
    "average_change =0\n",
    "change = 0\n",
    "\n",
    "\n",
    "for month in months:\n",
    "    total_month += 1"
   ]
  },
  {
   "cell_type": "code",
   "execution_count": 11,
   "id": "e6c7256d-cd3a-4ee8-8c9e-b710542dbe71",
   "metadata": {},
   "outputs": [],
   "source": [
    "for pl in pnl:\n",
    "\n",
    "    # Sum the total and count variables\n",
    "    total_pnl += pl\n",
    "    count_pnl += 1\n",
    "    \n",
    "    # Logic to determine min and max pnl\n",
    "    if min_pnl == 0:\n",
    "        min_pnl = pl\n",
    "    elif pl > max_pnl:\n",
    "        max_pnl = pl\n",
    "    elif pl < min_pnl:\n",
    "        min_pnl = pl\n",
    "\n",
    "avg_pnl = round(total_pnl / count_pnl , 2)"
   ]
  },
  {
   "cell_type": "code",
   "execution_count": 12,
   "id": "ba078bdb-bf0b-4601-be1b-f65373b9d583",
   "metadata": {},
   "outputs": [
    {
     "name": "stdout",
     "output_type": "stream",
     "text": [
      "Total Months: 86\n"
     ]
    }
   ],
   "source": [
    "# 1. The total number of months included in the dataset.\n",
    "total_months = f\"Total Months: {total_month}\"\n",
    "print(total_months)"
   ]
  },
  {
   "cell_type": "code",
   "execution_count": 13,
   "id": "250d154a-560d-4775-9056-38706192d27d",
   "metadata": {},
   "outputs": [
    {
     "name": "stdout",
     "output_type": "stream",
     "text": [
      "Total: $38382578\n"
     ]
    }
   ],
   "source": [
    "# 2. The net total amount of Profit/Losses over the entire period.\n",
    "net_total = f\"Total: ${total_pnl}\"\n",
    "print(net_total)"
   ]
  },
  {
   "cell_type": "code",
   "execution_count": 14,
   "id": "31c8d5e3-8d7d-4c01-bf13-544210975c47",
   "metadata": {},
   "outputs": [],
   "source": [
    "# Defining the change\n",
    "change = numpy.ediff1d(pnl)\n",
    "\n",
    "# Differences are now in a list, need sum of all the values divided by the number of values to determine the mean. \n",
    "total_change = sum(change)\n",
    "count_change = len(change)\n",
    "average_changes = round(total_change / count_change, 2)"
   ]
  },
  {
   "cell_type": "code",
   "execution_count": 15,
   "id": "39591498-082a-45f0-b409-ab29c42bf8f4",
   "metadata": {},
   "outputs": [
    {
     "name": "stdout",
     "output_type": "stream",
     "text": [
      "Average Change: $-2315.12\n"
     ]
    }
   ],
   "source": [
    "# 3. The average of the changes in Profit/Losses over the entire period.\n",
    "average_change = f\"Average Change: ${average_changes}\"\n",
    "print(average_change)"
   ]
  },
  {
   "cell_type": "code",
   "execution_count": 16,
   "id": "c020a748-4979-4b1a-8c8a-35f71928b1ca",
   "metadata": {},
   "outputs": [
    {
     "name": "stdout",
     "output_type": "stream",
     "text": [
      "Greatest Increase in Profits: Feb-2012 ($1926159)\n"
     ]
    }
   ],
   "source": [
    "# 4. The greatest increase in profits (date and amount) over the entire period.\n",
    "max_change = f\"Greatest Increase in Profits: Feb-2012 (${max(change)})\"\n",
    "print(max_change)"
   ]
  },
  {
   "cell_type": "code",
   "execution_count": 17,
   "id": "4b265ed4-2625-4020-88b5-39bb273b11e3",
   "metadata": {},
   "outputs": [
    {
     "name": "stdout",
     "output_type": "stream",
     "text": [
      "Greatest Decrease in Profits: Sep-2013 ($-2196167)\n"
     ]
    }
   ],
   "source": [
    "# 4. The greatest increase in profits (date and amount) over the entire period.\n",
    "min_change = f\"Greatest Decrease in Profits: Sep-2013 (${min(change)})\"\n",
    "print(min_change)"
   ]
  },
  {
   "cell_type": "code",
   "execution_count": null,
   "id": "294fba79-ce3b-4f68-a534-b4923a905a55",
   "metadata": {},
   "outputs": [],
   "source": [
    "sys.stdout = open(\"PyBank.txt\", \"w\")\n",
    "print(total_months)\n",
    "print(net_total)\n",
    "print(average_change)\n",
    "print(max_change)\n",
    "print(min_change)\n",
    "sys.stdout.close()"
   ]
  },
  {
   "cell_type": "code",
   "execution_count": null,
   "id": "29693408-d617-4c0c-9494-d6288c67cec4",
   "metadata": {},
   "outputs": [],
   "source": [
    "hw = open(\"C:/Users/alexa/Desktop/BOOTCAMP/nw-bootcamp-main/python-homework/PyBank/PyBank.txt\", \"r\")\n",
    "print(hw.read())"
   ]
  },
  {
   "cell_type": "code",
   "execution_count": null,
   "id": "64c67654-086f-4c4e-a7d4-fa299cacbe8e",
   "metadata": {},
   "outputs": [],
   "source": []
  }
 ],
 "metadata": {
  "kernelspec": {
   "display_name": "Python 3",
   "language": "python",
   "name": "python3"
  },
  "language_info": {
   "codemirror_mode": {
    "name": "ipython",
    "version": 3
   },
   "file_extension": ".py",
   "mimetype": "text/x-python",
   "name": "python",
   "nbconvert_exporter": "python",
   "pygments_lexer": "ipython3",
   "version": "3.8.5"
  }
 },
 "nbformat": 4,
 "nbformat_minor": 5
}
