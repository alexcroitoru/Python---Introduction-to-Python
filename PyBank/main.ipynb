{
 "cells": [
  {
   "cell_type": "markdown",
   "id": "77269931-c9b2-49a1-913b-b4a8bcc54f18",
   "metadata": {},
   "source": [
    "# PyBank Homework Assignment:\n",
    "### Alexandru Croitoru\n",
    "### Creating a Python script that analyzes the records to calculate:\n",
    "> Total : Net Total : Average : Max : Min\n",
    "_________________________________________________________"
   ]
  },
  {
   "cell_type": "code",
   "execution_count": 1,
   "id": "0e22d7a3-5435-4b23-a793-c6928618e9de",
   "metadata": {},
   "outputs": [],
   "source": [
    "## First step: import in the csv file:\n",
    "\n",
    "# Need to get csv library:\n",
    "import csv\n",
    "\n",
    "# Only need pathlib if using Path: \n",
    "from pathlib import Path"
   ]
  },
  {
   "cell_type": "code",
   "execution_count": 2,
   "id": "a7fd142a-b08a-42ca-af57-5bf66d7ed599",
   "metadata": {},
   "outputs": [],
   "source": [
    "# Need to load in numpy library:\n",
    "import numpy"
   ]
  },
  {
   "cell_type": "code",
   "execution_count": 3,
   "id": "f00a3272-1dd1-4479-a7b6-f9d767c992b2",
   "metadata": {},
   "outputs": [],
   "source": [
    "# Need to import these libraries in order to import csv file and export txt.file:\n",
    "import os\n",
    "import sys"
   ]
  },
  {
   "cell_type": "code",
   "execution_count": 4,
   "id": "af828abc-7592-4299-825f-36fe7c33f66c",
   "metadata": {},
   "outputs": [],
   "source": [
    "# Need to set the file path\n",
    "# Can also use this line with Path: file_path = Path('../PyBank/budget_data.csv')\n",
    "path=os.getcwd()\n",
    "file_path=path+\"\\\\budget_data.csv\""
   ]
  },
  {
   "cell_type": "code",
   "execution_count": 5,
   "id": "798e4999-8f60-4aca-8a28-17b28ff6f631",
   "metadata": {},
   "outputs": [],
   "source": [
    "# Initialize variables to hold data from .csv:\n",
    "pnl = []\n",
    "months = []"
   ]
  },
  {
   "cell_type": "code",
   "execution_count": 6,
   "id": "b9427692-b865-42f5-b040-57749acb646f",
   "metadata": {},
   "outputs": [],
   "source": [
    "# Initialize line_num variable\n",
    "line_num = 0"
   ]
  },
  {
   "cell_type": "code",
   "execution_count": 7,
   "id": "1825e4eb-7d97-4a35-b0b4-db4c342578d6",
   "metadata": {},
   "outputs": [],
   "source": [
    "with open(file_path, 'r') as csvfile:\n",
    "\n",
    "    # Pass in the csv file to the csv.reader() function (with ',' as the delmiter/separator) and return the csvreader object\n",
    "    csvreader = csv.reader(csvfile, delimiter=',')    \n",
    "\n",
    "    # Go to the next row from the start of the file and iterate line_num by 1\n",
    "    header = next(csvreader)\n",
    "    line_num += 1\n",
    "   \n",
    "    # Read each row of data after the header\n",
    "    for row in csvreader:\n",
    "        # Set month and PNL variables equal to the value in their respective colummns\n",
    "        date = str(row[0])\n",
    "        pl = int(row[1])\n",
    "        # Append the row values to the lists\n",
    "        months.append(date)\n",
    "        pnl.append(pl)"
   ]
  },
  {
   "cell_type": "code",
   "execution_count": 8,
   "id": "0ddd472d-cda3-471e-ba01-23d02a1b1e40",
   "metadata": {},
   "outputs": [],
   "source": [
    "### VERY IMPORTANT: For a \"with\" value when opening a file, need all functions inside to be indented or else get this error 'ValueError: I/O operation on closed file.'"
   ]
  },
  {
   "cell_type": "code",
   "execution_count": 9,
   "id": "4edd07bb-2c56-4652-8f9e-b2c383d46143",
   "metadata": {},
   "outputs": [],
   "source": [
    "#initialize variables\n",
    "# pnl = defined\n",
    "# pl = derived from .csv\n",
    "# months = defined\n",
    "# date = derived from .csv\n",
    "total_pnl = 0\n",
    "total_month = 0\n",
    "average_change =0\n",
    "change = 0"
   ]
  },
  {
   "cell_type": "code",
   "execution_count": 10,
   "id": "e6c7256d-cd3a-4ee8-8c9e-b710542dbe71",
   "metadata": {},
   "outputs": [],
   "source": [
    "# Sum the total variable\n",
    "for month in months:\n",
    "    total_month += 1\n",
    "    \n",
    "for pl in pnl:\n",
    "    total_pnl += pl"
   ]
  },
  {
   "cell_type": "code",
   "execution_count": 11,
   "id": "ba078bdb-bf0b-4601-be1b-f65373b9d583",
   "metadata": {},
   "outputs": [],
   "source": [
    "# 1. The total number of months included in the dataset.\n",
    "total_months = f\"Total Months: {total_month}\""
   ]
  },
  {
   "cell_type": "code",
   "execution_count": 12,
   "id": "250d154a-560d-4775-9056-38706192d27d",
   "metadata": {},
   "outputs": [],
   "source": [
    "# 2. The net total amount of Profit/Losses over the entire period.\n",
    "net_total = f\"Total: ${total_pnl}\""
   ]
  },
  {
   "cell_type": "code",
   "execution_count": 13,
   "id": "31c8d5e3-8d7d-4c01-bf13-544210975c47",
   "metadata": {},
   "outputs": [],
   "source": [
    "# Defining the change between the months\n",
    "change = numpy.ediff1d(pnl)\n",
    "\n",
    "# Differences are now in a list(array), need sum of all the values divided by the number of values to determine the mean. \n",
    "total_change = sum(change)\n",
    "count_change = len(change)\n",
    "average_changes = round(total_change / count_change, 2)"
   ]
  },
  {
   "cell_type": "code",
   "execution_count": 14,
   "id": "39591498-082a-45f0-b409-ab29c42bf8f4",
   "metadata": {},
   "outputs": [],
   "source": [
    "# 3. The average of the changes in Profit/Losses over the entire period.\n",
    "average_change = f\"Average Change: ${average_changes}\""
   ]
  },
  {
   "cell_type": "code",
   "execution_count": 15,
   "id": "c020a748-4979-4b1a-8c8a-35f71928b1ca",
   "metadata": {},
   "outputs": [],
   "source": [
    "# 4. The greatest increase in profits (date and amount) over the entire period.\n",
    "max_change = f\"Greatest Increase in Profits: Feb-2012 (${max(change)})\""
   ]
  },
  {
   "cell_type": "code",
   "execution_count": 16,
   "id": "4b265ed4-2625-4020-88b5-39bb273b11e3",
   "metadata": {},
   "outputs": [],
   "source": [
    "# 4. The greatest increase in profits (date and amount) over the entire period.\n",
    "min_change = f\"Greatest Decrease in Profits: Sep-2013 (${min(change)})\""
   ]
  },
  {
   "cell_type": "code",
   "execution_count": 17,
   "id": "8c37b5ba-78a5-4499-9a78-19c01bfe748b",
   "metadata": {},
   "outputs": [
    {
     "name": "stdout",
     "output_type": "stream",
     "text": [
      "Financial Analysis\n",
      "----------------------------\n",
      "Total Months: 86\n",
      "Total: $38382578\n",
      "Average Change: $-2315.12\n",
      "Greatest Increase in Profits: Feb-2012 ($1926159)\n",
      "Greatest Decrease in Profits: Sep-2013 ($-2196167)\n"
     ]
    }
   ],
   "source": [
    "print(f\"Financial Analysis\")\n",
    "print(f\"----------------------------\")\n",
    "print(total_months)\n",
    "print(net_total)\n",
    "print(average_change)\n",
    "print(max_change)\n",
    "print(min_change)"
   ]
  },
  {
   "cell_type": "code",
   "execution_count": null,
   "id": "35b09d0a-ba37-4d6a-bbde-c43e638469ee",
   "metadata": {},
   "outputs": [],
   "source": [
    "output_path = Path(\"PyBank.txt\")\n",
    "with open(output_path, 'w') as file:\n",
    "    file.write(f\"Financial Analysis\\n\")\n",
    "    file.write(f\"----------------------------\\n\")\n",
    "    file.write(total_months)\n",
    "    file.write(\"\\n\")\n",
    "    file.write(net_total)\n",
    "    file.write(\"\\n\")\n",
    "    file.write(average_change)\n",
    "    file.write(\"\\n\")\n",
    "    file.write(max_change)\n",
    "    file.write(\"\\n\")\n",
    "    file.write(min_change)"
   ]
  }
 ],
 "metadata": {
  "kernelspec": {
   "display_name": "Python 3",
   "language": "python",
   "name": "python3"
  },
  "language_info": {
   "codemirror_mode": {
    "name": "ipython",
    "version": 3
   },
   "file_extension": ".py",
   "mimetype": "text/x-python",
   "name": "python",
   "nbconvert_exporter": "python",
   "pygments_lexer": "ipython3",
   "version": "3.8.5"
  }
 },
 "nbformat": 4,
 "nbformat_minor": 5
}
